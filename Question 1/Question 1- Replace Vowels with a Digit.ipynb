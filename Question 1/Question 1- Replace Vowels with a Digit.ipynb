{
 "cells": [
  {
   "cell_type": "code",
   "execution_count": 1,
   "id": "surprised-rainbow",
   "metadata": {},
   "outputs": [],
   "source": [
    "# Function to find the sum of all digits present in a given number\n",
    "def DigitSum(number): # Takes a number as it's only parameter\n",
    "    sum = 0 # Initialise sum vardaible to 0\n",
    "    for digit in str(number): # Taking each and every digit separately \n",
    "        sum= sum + int(digit) # Add it to the sum variable\n",
    "    return(sum) # return the final sum, containing the sum of all digits present in the number\n",
    "# End of Function"
   ]
  },
  {
   "cell_type": "code",
   "execution_count": 2,
   "id": "individual-allen",
   "metadata": {},
   "outputs": [],
   "source": [
    "# Function to find the sum of all prime numbers given the upper limit\n",
    "def PrimeSum(upper): #Takes the upper limit as it's only argument\n",
    "    sum= 0 # Initialise sum variable to 0\n",
    "    for num in range(1, upper + 1): # for numbers in range from 1 (lower limit) to upper (upper limit)\n",
    "        if num > 1:\n",
    "            for i in range(2, num): # Check if a number is prime or not\n",
    "                if (num % i) == 0: # If the number is not prime...move to the next number\n",
    "                    break\n",
    "            else: # If the number is prime, add that prime number to the sum\n",
    "                sum= sum+ num\n",
    "    return(sum) # Return the final sum, containing the sum of all prime numbers in the given range (1 to upper)\n",
    "# End of Function"
   ]
  },
  {
   "cell_type": "code",
   "execution_count": 3,
   "id": "engaged-admission",
   "metadata": {},
   "outputs": [],
   "source": [
    "# Function to Find the Digit with which the Vowel has to be Replaced\n",
    "def GetDigit(i): # Takes the index of the Vowel as it's only parameter\n",
    "    if i== 0: # If the index value is 0, return 0 without further calculation\n",
    "        return(0)\n",
    "    i = i *100 # if the index value is non-zero, multiply it by 100\n",
    "    sum_of_primes= PrimeSum(i) # Calling function PrimeSum to find the sum of all prime numbers in the range from 1 to i\n",
    "    sum_of_digits= DigitSum(sum_of_primes) # Calling function DigitSum to find the sum of all digits in sum_of_primes number\n",
    "    while sum_of_digits >= 10: # If the sum_of_digits is not a one digit number, call DigitSum function repeatedly\n",
    "        sum_of_digits= DigitSum(sum_of_digits)\n",
    "    return(sum_of_digits) # This sum_of_digits number is the number with which the vowel has to be replaced\n",
    "# End of function"
   ]
  },
  {
   "cell_type": "code",
   "execution_count": 4,
   "id": "subtle-tiffany",
   "metadata": {},
   "outputs": [],
   "source": [
    "# Function to replace all vowels in the string with a digit\n",
    "def replaceVowel(st):\n",
    "    newstr = '' # Create an empty string\n",
    "    i= 0 # index variable\n",
    "    for character in st: \n",
    "        if character in 'aeiouAEIOU': #Check if the character is a vowel or not\n",
    "            newstr += str(GetDigit(i)) #If yes, Replace vowel with the computed digit\n",
    "        else: # If not a vowel, just concatenate the character to the string without any modification\n",
    "            newstr += character\n",
    "        i= i+ 1 # index variable increemented\n",
    "    return newstr\n",
    "# End of function"
   ]
  },
  {
   "cell_type": "code",
   "execution_count": 5,
   "id": "velvet-maple",
   "metadata": {},
   "outputs": [
    {
     "name": "stdout",
     "output_type": "stream",
     "text": [
      "Enter a String: replace this\n",
      "The Original String is: replace this\n",
      "The Modified String is: r7pl9c1 th5s\n"
     ]
    }
   ],
   "source": [
    "input_string = input(\"Enter a String: \") # Getting User input\n",
    "new_string = replaceVowel(input_string) # Calling function replaceVowel with the string given by the user as the only parameter\n",
    "\n",
    "#Results\n",
    "print(\"The Original String is:\", input_string) # Prints Original String\n",
    "print(\"The Modified String is:\", new_string) # Prints Modified String"
   ]
  }
 ],
 "metadata": {
  "kernelspec": {
   "display_name": "Python 3",
   "language": "python",
   "name": "python3"
  },
  "language_info": {
   "codemirror_mode": {
    "name": "ipython",
    "version": 3
   },
   "file_extension": ".py",
   "mimetype": "text/x-python",
   "name": "python",
   "nbconvert_exporter": "python",
   "pygments_lexer": "ipython3",
   "version": "3.9.2"
  }
 },
 "nbformat": 4,
 "nbformat_minor": 5
}
