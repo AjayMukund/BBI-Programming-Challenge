{
 "cells": [
  {
   "cell_type": "code",
   "execution_count": 1,
   "id": "smaller-decimal",
   "metadata": {},
   "outputs": [],
   "source": [
    "\"\"\"\" Python3 program to count minimum swaps to make a symmetric string from a given input string s of length n\"\"\"\n",
    "\n",
    "def CountSwap(s, n): # Function to count minimum swaps\n",
    "    s = list(s)\n",
    "    count = 0 # Counter to count minimum swap\n",
    "    possibility = True\n",
    " \n",
    "    for i in range(n // 2): # Loop that runs from starting to half-string\n",
    "        left = i # Left pointer\n",
    "        right = n - left - 1 # Right pointer\n",
    "        \n",
    "        while left < right: # Loop that runs from right pointer to left pointer\n",
    "            if s[left] == s[right]:\n",
    "                break # if both left and right characters are same, break the loop \n",
    "            else:\n",
    "                right -= 1 # if not, we have to move right pointer one step left\n",
    "                \n",
    "        if left == right:\n",
    "            # If this condition is satisfied, it denotes both pointers are at the same position\n",
    "            # We don't have sufficient character to make a symmetric string...Therefore, Not possible\n",
    "            possibility = False\n",
    "            break\n",
    "        else:\n",
    "            for j in range(right, n - left - 1):\n",
    "                (s[j], s[j + 1]) = (s[j + 1], s[j])\n",
    "                count += 1 #Counter is incresed by one denoting a successful swap!\n",
    "    if possibility:\n",
    "        return (count)\n",
    "    else: #If the left==right condition had been satisfied, possibility will be false denoting that there is no possibility to make the given string into a symmetric string\n",
    "        return -1 #Therefore, return -1"
   ]
  },
  {
   "cell_type": "code",
   "execution_count": 2,
   "id": "above-great",
   "metadata": {},
   "outputs": [
    {
     "name": "stdout",
     "output_type": "stream",
     "text": [
      "Enter an input string: aabb\n",
      "\n",
      " 2 \n",
      "\n",
      "Explanation: The minimum number of swaps required to make the given input string s into a symmetric string is  2 \n",
      "\n"
     ]
    }
   ],
   "source": [
    "s = input(\"Enter an input string: \") # Getting User input\n",
    "n = len(s) # Finding the length of the input string and storing it as n\n",
    "\n",
    "if (n<= 1000): # Check whether the Initial constraint is satisfied or not\n",
    "    \n",
    "    ans1 = CountSwap(s, n) # Passing the input string and it's length as parameters\n",
    "    \n",
    "    ans2 = CountSwap(s[::-1], n) # Passing the input string in reverse (because we are checking only half-string) along with it's length as parameters\n",
    "    \n",
    "    #Output\n",
    "    Output= max(ans1, ans2)\n",
    "    print(\"\\n\", Output, \"\\n\")\n",
    "    \n",
    "    #Explanation\n",
    "    if(Output== -1):\n",
    "        print(\"Explanation: There is no possibility to make the given input string s into a symmetric string \\n\")\n",
    "    else:\n",
    "        print(\"Explanation: The minimum number of swaps required to make the given input string s into a symmetric string is \",Output, \"\\n\")   \n",
    "else:\n",
    "    print(\"Oops! The length of the string (s), n has to be lesser than or equal to 1000... That's a constraint that has to be satified\")\n",
    "    print(\"Try giving a shorter input string\")"
   ]
  }
 ],
 "metadata": {
  "kernelspec": {
   "display_name": "Python 3",
   "language": "python",
   "name": "python3"
  },
  "language_info": {
   "codemirror_mode": {
    "name": "ipython",
    "version": 3
   },
   "file_extension": ".py",
   "mimetype": "text/x-python",
   "name": "python",
   "nbconvert_exporter": "python",
   "pygments_lexer": "ipython3",
   "version": "3.9.2"
  }
 },
 "nbformat": 4,
 "nbformat_minor": 5
}
